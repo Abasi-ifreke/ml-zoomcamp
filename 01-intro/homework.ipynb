{
 "cells": [
  {
   "cell_type": "code",
   "execution_count": 1,
   "id": "7dc67ca3",
   "metadata": {},
   "outputs": [],
   "source": [
    "import numpy as np\n",
    "import pandas as pd"
   ]
  },
  {
   "cell_type": "markdown",
   "id": "43826711",
   "metadata": {},
   "source": [
    "Pandas version"
   ]
  },
  {
   "cell_type": "code",
   "execution_count": 2,
   "id": "8f07374e",
   "metadata": {},
   "outputs": [
    {
     "data": {
      "text/plain": [
       "'2.3.1'"
      ]
     },
     "execution_count": 2,
     "metadata": {},
     "output_type": "execute_result"
    }
   ],
   "source": [
    "pd.__version__"
   ]
  },
  {
   "cell_type": "markdown",
   "id": "c3e5e707",
   "metadata": {},
   "source": [
    "Q2. Records count"
   ]
  },
  {
   "cell_type": "code",
   "execution_count": 6,
   "id": "c87f9fec",
   "metadata": {},
   "outputs": [
    {
     "name": "stdout",
     "output_type": "stream",
     "text": [
      "9704\n"
     ]
    }
   ],
   "source": [
    "df = pd.read_csv(\"car_fuel_efficiency.csv\")\n",
    "print(len(df))"
   ]
  },
  {
   "cell_type": "markdown",
   "id": "5d44470d",
   "metadata": {},
   "source": [
    "Q3. Fuel Types"
   ]
  },
  {
   "cell_type": "code",
   "execution_count": 94,
   "id": "f377d206",
   "metadata": {},
   "outputs": [
    {
     "name": "stdout",
     "output_type": "stream",
     "text": [
      "2\n"
     ]
    }
   ],
   "source": [
    "fuel_type_num =df.fuel_type.nunique()\n",
    "print(fuel_type_num)"
   ]
  },
  {
   "cell_type": "markdown",
   "id": "c12a259c",
   "metadata": {},
   "source": [
    "Q4. Missing Values"
   ]
  },
  {
   "cell_type": "code",
   "execution_count": 13,
   "id": "35f58884",
   "metadata": {},
   "outputs": [
    {
     "name": "stdout",
     "output_type": "stream",
     "text": [
      "4\n"
     ]
    }
   ],
   "source": [
    "missing_content = df.isnull().any().sum()\n",
    "print(missing_content)"
   ]
  },
  {
   "cell_type": "markdown",
   "id": "9fa3de6f",
   "metadata": {},
   "source": [
    "Q5. Max Fuel Efficiency"
   ]
  },
  {
   "cell_type": "code",
   "execution_count": 95,
   "id": "95112af0",
   "metadata": {},
   "outputs": [
    {
     "name": "stdout",
     "output_type": "stream",
     "text": [
      "23.759122836520497\n"
     ]
    }
   ],
   "source": [
    "max_fuel_asia = df[df.origin == 'Asia'][\"fuel_efficiency_mpg\"].max()\n",
    "print(max_fuel_asia)"
   ]
  },
  {
   "cell_type": "markdown",
   "id": "e466dbb4",
   "metadata": {},
   "source": [
    "Q6. Median Value of Horsepower"
   ]
  },
  {
   "cell_type": "code",
   "execution_count": 96,
   "id": "f4c48c23",
   "metadata": {},
   "outputs": [
    {
     "name": "stdout",
     "output_type": "stream",
     "text": [
      "149.0\n"
     ]
    }
   ],
   "source": [
    "median_hp = df.horsepower.median()\n",
    "print(median_hp)"
   ]
  },
  {
   "cell_type": "code",
   "execution_count": 98,
   "id": "cc1e4b12",
   "metadata": {},
   "outputs": [
    {
     "name": "stdout",
     "output_type": "stream",
     "text": [
      "0    152.0\n",
      "Name: horsepower, dtype: float64\n"
     ]
    }
   ],
   "source": [
    "most_frequent = df[\"horsepower\"].mode()\n",
    "print(most_frequent)"
   ]
  },
  {
   "cell_type": "code",
   "execution_count": 29,
   "id": "d3845a72",
   "metadata": {},
   "outputs": [
    {
     "name": "stdout",
     "output_type": "stream",
     "text": [
      "152.0\n"
     ]
    }
   ],
   "source": [
    "new_median = df['horsepower'].fillna(152).median()\n",
    "print(new_median)"
   ]
  },
  {
   "cell_type": "markdown",
   "id": "523f43e9",
   "metadata": {},
   "source": [
    "Q7. Sum of weights"
   ]
  },
  {
   "cell_type": "code",
   "execution_count": 40,
   "id": "1f624659",
   "metadata": {},
   "outputs": [
    {
     "name": "stdout",
     "output_type": "stream",
     "text": [
      "      engine_displacement  num_cylinders  horsepower  vehicle_weight  \\\n",
      "8                     250            1.0       174.0     2714.219310   \n",
      "12                    320            5.0       145.0     2783.868974   \n",
      "14                    200            6.0       160.0     3582.687368   \n",
      "20                    150            3.0       197.0     2231.808142   \n",
      "21                    160            4.0       133.0     2659.431451   \n",
      "...                   ...            ...         ...             ...   \n",
      "9688                  260            4.0         NaN     3948.404625   \n",
      "9692                  180            3.0       188.0     3680.341381   \n",
      "9693                  280            2.0       148.0     2545.070139   \n",
      "9698                  180            1.0       131.0     3107.427820   \n",
      "9703                  270            3.0       140.0     2908.043477   \n",
      "\n",
      "      acceleration  model_year origin fuel_type         drivetrain  num_doors  \\\n",
      "8             10.3        2016   Asia    Diesel  Front-wheel drive       -1.0   \n",
      "12            15.1        2010   Asia    Diesel    All-wheel drive        1.0   \n",
      "14            14.9        2007   Asia    Diesel    All-wheel drive        0.0   \n",
      "20            18.7        2011   Asia  Gasoline  Front-wheel drive        1.0   \n",
      "21             NaN        2016   Asia  Gasoline  Front-wheel drive       -1.0   \n",
      "...            ...         ...    ...       ...                ...        ...   \n",
      "9688          15.5        2018   Asia    Diesel    All-wheel drive       -1.0   \n",
      "9692          18.0        2016   Asia  Gasoline  Front-wheel drive        1.0   \n",
      "9693          15.6        2012   Asia    Diesel    All-wheel drive        0.0   \n",
      "9698          13.2        2005   Asia  Gasoline  Front-wheel drive       -2.0   \n",
      "9703          14.7        2005   Asia    Diesel    All-wheel drive       -1.0   \n",
      "\n",
      "      fuel_efficiency_mpg  \n",
      "8               16.823554  \n",
      "12              16.175820  \n",
      "14              11.871091  \n",
      "20              18.889083  \n",
      "21              16.077730  \n",
      "...                   ...  \n",
      "9688            11.054830  \n",
      "9692            11.711653  \n",
      "9693            17.202782  \n",
      "9698            13.933716  \n",
      "9703            14.884467  \n",
      "\n",
      "[3247 rows x 11 columns]\n"
     ]
    }
   ],
   "source": [
    "Asia_cars = df[df[\"origin\"] == \"Asia\"]\n",
    "print(Asia_cars)"
   ]
  },
  {
   "cell_type": "code",
   "execution_count": 62,
   "id": "f39c947c",
   "metadata": {},
   "outputs": [
    {
     "name": "stdout",
     "output_type": "stream",
     "text": [
      "      vehicle_weight  model_year\n",
      "8        2714.219310        2016\n",
      "12       2783.868974        2010\n",
      "14       3582.687368        2007\n",
      "20       2231.808142        2011\n",
      "21       2659.431451        2016\n",
      "...              ...         ...\n",
      "9688     3948.404625        2018\n",
      "9692     3680.341381        2016\n",
      "9693     2545.070139        2012\n",
      "9698     3107.427820        2005\n",
      "9703     2908.043477        2005\n",
      "\n",
      "[3247 rows x 2 columns]\n"
     ]
    }
   ],
   "source": [
    "Asia_cars_weight_modyear = df[df['origin'] == 'Asia'][['vehicle_weight', 'model_year']]\n",
    "print(Asia_cars_weight_modyear)"
   ]
  },
  {
   "cell_type": "code",
   "execution_count": 64,
   "id": "d440b974",
   "metadata": {},
   "outputs": [
    {
     "name": "stdout",
     "output_type": "stream",
     "text": [
      "    vehicle_weight  model_year\n",
      "8      2714.219310        2016\n",
      "12     2783.868974        2010\n",
      "14     3582.687368        2007\n",
      "20     2231.808142        2011\n",
      "21     2659.431451        2016\n",
      "34     2844.227534        2014\n",
      "38     3761.994038        2019\n"
     ]
    }
   ],
   "source": [
    "Asia_cars_weight_modyear = df[df[\"origin\"] == \"Asia\"][['vehicle_weight', 'model_year']].head(n=7)\n",
    "print(Asia_cars_weight_modyear)"
   ]
  },
  {
   "cell_type": "code",
   "execution_count": 80,
   "id": "b7d91730",
   "metadata": {},
   "outputs": [
    {
     "name": "stdout",
     "output_type": "stream",
     "text": [
      "[[2714.21930965 2016.        ]\n",
      " [2783.86897424 2010.        ]\n",
      " [3582.68736772 2007.        ]\n",
      " [2231.8081416  2011.        ]\n",
      " [2659.43145076 2016.        ]\n",
      " [2844.22753389 2014.        ]\n",
      " [3761.99403819 2019.        ]]\n"
     ]
    }
   ],
   "source": [
    "X = Asia_cars_weight_modyear.values\n",
    "print(X)"
   ]
  },
  {
   "cell_type": "code",
   "execution_count": 79,
   "id": "2a2fc424",
   "metadata": {},
   "outputs": [
    {
     "name": "stdout",
     "output_type": "stream",
     "text": [
      "[[2714.21930965 2783.86897424 3582.68736772 2231.8081416  2659.43145076\n",
      "  2844.22753389 3761.99403819]\n",
      " [2016.         2010.         2007.         2011.         2016.\n",
      "  2014.         2019.        ]]\n"
     ]
    }
   ],
   "source": [
    "XT = X.T\n",
    "print(XT)"
   ]
  },
  {
   "cell_type": "code",
   "execution_count": 89,
   "id": "7bfc625f",
   "metadata": {},
   "outputs": [
    {
     "name": "stdout",
     "output_type": "stream",
     "text": [
      "[[62248334.33150762 41431216.5073268 ]\n",
      " [41431216.5073268  28373339.        ]]\n"
     ]
    }
   ],
   "source": [
    "XTX = XT.dot(X)\n",
    "print(XTX)"
   ]
  },
  {
   "cell_type": "code",
   "execution_count": 90,
   "id": "f2843130",
   "metadata": {},
   "outputs": [
    {
     "data": {
      "text/plain": [
       "array([[ 5.71497081e-07, -8.34509443e-07],\n",
       "       [-8.34509443e-07,  1.25380877e-06]])"
      ]
     },
     "execution_count": 90,
     "metadata": {},
     "output_type": "execute_result"
    }
   ],
   "source": [
    "XTX_inv = np.linalg.inv(XTX)\n",
    "XTX_inv"
   ]
  },
  {
   "cell_type": "code",
   "execution_count": 91,
   "id": "58598fb0",
   "metadata": {},
   "outputs": [
    {
     "data": {
      "text/plain": [
       "array([1100, 1300,  800,  900, 1000, 1100, 1200])"
      ]
     },
     "execution_count": 91,
     "metadata": {},
     "output_type": "execute_result"
    }
   ],
   "source": [
    "y = np.array([1100, 1300, 800, 900, 1000, 1100, 1200])\n",
    "y"
   ]
  },
  {
   "cell_type": "code",
   "execution_count": 92,
   "id": "23c3c739",
   "metadata": {},
   "outputs": [
    {
     "data": {
      "text/plain": [
       "array([0.01386421, 0.5049067 ])"
      ]
     },
     "execution_count": 92,
     "metadata": {},
     "output_type": "execute_result"
    }
   ],
   "source": [
    "w = XTX_inv.dot(XT).dot(y)\n",
    "w"
   ]
  },
  {
   "cell_type": "code",
   "execution_count": 93,
   "id": "98060c8e",
   "metadata": {},
   "outputs": [
    {
     "data": {
      "text/plain": [
       "np.float64(0.5187709081074016)"
      ]
     },
     "execution_count": 93,
     "metadata": {},
     "output_type": "execute_result"
    }
   ],
   "source": [
    "w.sum()"
   ]
  }
 ],
 "metadata": {
  "kernelspec": {
   "display_name": "Python 3",
   "language": "python",
   "name": "python3"
  },
  "language_info": {
   "codemirror_mode": {
    "name": "ipython",
    "version": 3
   },
   "file_extension": ".py",
   "mimetype": "text/x-python",
   "name": "python",
   "nbconvert_exporter": "python",
   "pygments_lexer": "ipython3",
   "version": "3.12.1"
  }
 },
 "nbformat": 4,
 "nbformat_minor": 5
}
